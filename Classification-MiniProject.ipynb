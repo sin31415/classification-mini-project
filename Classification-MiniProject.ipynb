{
 "cells": [
  {
   "cell_type": "markdown",
   "id": "2f83a926-9256-4a1c-b309-5586efdb19b1",
   "metadata": {},
   "source": [
    "# Dependancies"
   ]
  },
  {
   "cell_type": "code",
   "execution_count": 3,
   "id": "bf69c8a0-6caa-46e7-8b11-6a7e3549b0a9",
   "metadata": {},
   "outputs": [],
   "source": [
    "# Dependencies\n",
    "import pandas as pd\n",
    "from sklearn.model_selection import train_test_split\n",
    "from sklearn.metrics import accuracy_score\n",
    "from sklearn.preprocessing import OneHotEncoder, LabelEncoder, StandardScaler\n",
    "from sklearn.linear_model import LogisticRegression\n",
    "from sklearn.svm import SVC \n",
    "from sklearn.neighbors import KNeighborsClassifier\n",
    "from sklearn.tree import DecisionTreeClassifier\n",
    "from sklearn.ensemble import RandomForestClassifier\n",
    "from sklearn.ensemble import ExtraTreesClassifier\n",
    "from sklearn.ensemble import GradientBoostingClassifier\n",
    "from sklearn.ensemble import AdaBoostClassifier\n",
    "import matplotlib.pyplot as plt"
   ]
  },
  {
   "cell_type": "markdown",
   "id": "028cc108-88fb-47c9-8f22-7157ffa38e5b",
   "metadata": {},
   "source": [
    "# Split Train and Score"
   ]
  },
  {
   "cell_type": "code",
   "execution_count": 169,
   "id": "8995f8f8-905e-4eb5-844f-4612ca50d467",
   "metadata": {},
   "outputs": [],
   "source": [
    "def split(df, target):\n",
    "    le = LabelEncoder()\n",
    "    y = le.fit_transform(df[target])\n",
    "    X = df.copy()\n",
    "    X = X.drop(columns=target)\n",
    "\n",
    "    # X_train, X_test, y_train, y_test = train_test_split(X, y)\n",
    "\n",
    "    return train_test_split(X, y)#X_train, X_test, y_train, y_test"
   ]
  },
  {
   "cell_type": "code",
   "execution_count": 171,
   "id": "18fd3545-5d51-4416-aea8-49140f97444e",
   "metadata": {},
   "outputs": [],
   "source": [
    "def encode(X_train, X_test):\n",
    "    ohe = OneHotEncoder(handle_unknown='ignore', sparse_output=False, dtype='int')\n",
    "    X_train_encoded = pd.DataFrame(data=ohe.fit_transform(X_train), columns=ohe.get_feature_names_out())\n",
    "    X_test_encoded = pd.DataFrame(data=ohe.transform(X_test), columns=ohe.get_feature_names_out())\n",
    "\n",
    "    return X_train_encoded, X_test_encoded"
   ]
  },
  {
   "cell_type": "code",
   "execution_count": 173,
   "id": "0a2d688d-978d-492a-932b-3efbf61ada66",
   "metadata": {},
   "outputs": [],
   "source": [
    "def scale(X_train, X_test):\n",
    "    scaler = StandardScaler()\n",
    "    X_train_scaled = scaler.fit_transform(X_train)\n",
    "    X_test_scaled = scaler.fit_transform(X_test)\n",
    "    return scaler.fit_transform(X_train), scaler.fit_transform(X_test)#X_train_scaled, X_test_scaled"
   ]
  },
  {
   "cell_type": "code",
   "execution_count": 200,
   "id": "c9caa151-90c1-4301-93fe-22c9e60403d8",
   "metadata": {},
   "outputs": [],
   "source": [
    "def metrics(X_train, X_test, y_train, y_test):\n",
    "    \n",
    "    lr_model = LogisticRegression(random_state=1, max_iter=110100100)\n",
    "    lr_model.fit(X_train, y_train)\n",
    "\n",
    "    lr_train_score = lr_model.score(X_train, y_train)\n",
    "    lr_test_score = lr_model.score(X_test, y_test)\n",
    "\n",
    "    svm_model = SVC(kernel='linear')\n",
    "    svm_model.fit(X_train, y_train)\n",
    "    \n",
    "    svm_train_score = svm_model.score(X_train, y_train)\n",
    "    svm_test_score = svm_model.score(X_test, y_test)\n",
    "    \n",
    "    knn_model = KNeighborsClassifier(n_neighbors=5)\n",
    "    knn_model.fit(X_train, y_train)\n",
    "    \n",
    "    knn_train_score = knn_model.score(X_train, y_train)\n",
    "    knn_test_score = knn_model.score(X_test, y_test)\n",
    "    \n",
    "    dt_model = DecisionTreeClassifier()\n",
    "    dt_model.fit(X_train, y_train)\n",
    "    \n",
    "    dt_train_score = dt_model.score(X_train, y_train)\n",
    "    dt_test_score = dt_model.score(X_test, y_test)\n",
    "    \n",
    "    rf_model = RandomForestClassifier(n_estimators=500, random_state=1)\n",
    "    rf_model.fit(X_train, y_train)\n",
    "    \n",
    "    rf_train_score = rf_model.score(X_train, y_train)\n",
    "    rf_test_score = rf_model.score(X_test, y_test)\n",
    "\n",
    "    # etc = ExtraTreesClassifier(random_state=1).fit(X_train_scaled, y_train)\n",
    "    # etc_train_score = etc.score(X_train_encoded, y_train)\n",
    "    # etc_test_score = etc.score(X_test_encoded, y_test)\n",
    "\n",
    "    # gbc = GradientBoostingClassifier(random_state=1).fit(X_train_scaled, y_train)\n",
    "    # gbc_train_score = gbc.score(X_train_encoded, y_train)\n",
    "    # gbc_test_score = gbc.score(X_test_encoded, y_test)\n",
    "\n",
    "    # abc = AdaBoostClassifier(random_state=1).fit(X_train_scaled, y_train)\n",
    "    # abc_train_score = abc.score(X_train_encoded, y_train)\n",
    "    # abc_test_score = abc.score(X_test_encoded, y_test)\n",
    "\n",
    "    return [lr_train_score, lr_test_score, svm_train_score, svm_test_score, knn_train_score, knn_test_score, dt_train_score, dt_test_score, rf_train_score, rf_test_score]"
   ]
  },
  {
   "cell_type": "code",
   "execution_count": 202,
   "id": "f7f1449d-63be-440d-a629-5110e53fc11b",
   "metadata": {},
   "outputs": [],
   "source": [
    "x=['LogReg Train', 'LogReg Test', \n",
    "        'SVM Train', 'SVM Test', \n",
    "        'KNN Train', 'KNN Test', \n",
    "        'DT Train', 'DT Test', \n",
    "        'RF Train', 'RF Test']"
   ]
  },
  {
   "cell_type": "code",
   "execution_count": 204,
   "id": "24d06985-9d82-44e0-a234-34f6a7a4317c",
   "metadata": {},
   "outputs": [],
   "source": [
    "def plotting(scores):\n",
    "    plt.bar(x, scores)\n",
    "    plt.ylim(min(scores)-(max(scores)-min(scores))*0.5, max(scores)+(max(scores)-min(scores))*0.1)\n",
    "    plt.xticks(rotation=45)\n",
    "    plt.xlabel='Classifiers'\n",
    "    plt.ylabel='Score'\n",
    "    plt.title('Scores for different classifiers')\n",
    "    xlocs, xlabs = plt.xticks()\n",
    "    xlocs=[i+1 for i in range(0,10)]\n",
    "    for i, v in enumerate(scores):\n",
    "        plt.text(xlocs[i]-1.25, v + (max(scores)-min(scores))*0.02, str(round(v,2)))\n",
    "    plt.show()"
   ]
  },
  {
   "cell_type": "markdown",
   "id": "c190e983-92dc-45cf-a0dc-2179ce62bb7d",
   "metadata": {},
   "source": [
    "# RUN"
   ]
  },
  {
   "cell_type": "code",
   "execution_count": 215,
   "id": "b8f9d73f-caa1-4971-a187-86d8f1039eed",
   "metadata": {},
   "outputs": [],
   "source": [
    "path = 'vertebral-column.csv'\n",
    "target = 'class'"
   ]
  },
  {
   "cell_type": "code",
   "execution_count": 217,
   "id": "2c1b61bb-23e0-4951-9b0b-89541cdb1e51",
   "metadata": {},
   "outputs": [],
   "source": [
    "df = pd.read_csv(path)"
   ]
  },
  {
   "cell_type": "code",
   "execution_count": 219,
   "id": "039f70ff-0061-42ea-a89d-27ee9ce0dc43",
   "metadata": {},
   "outputs": [],
   "source": [
    "X_train, X_test, y_train, y_test = split(df, target)\n",
    "X_train_encoded, X_test_encoded = encode(X_train, X_test)\n",
    "X_train_scaled, X_test_scaled = scale(X_train, X_test)"
   ]
  },
  {
   "cell_type": "code",
   "execution_count": 221,
   "id": "b378c397-25ae-41f1-8530-64678aaaa3c9",
   "metadata": {},
   "outputs": [
    {
     "name": "stdin",
     "output_type": "stream",
     "text": [
      "Do you want to use Scaled or Encoded data? 0 For Scaled 0\n"
     ]
    },
    {
     "data": {
      "image/png": "[encoded data removed]",
      "text/plain": [
       "<Figure size 640x480 with 1 Axes>"
      ]
     },
     "metadata": {},
     "output_type": "display_data"
    }
   ],
   "source": [
    "n = input('Do you want to use Scaled or Encoded data? 0 For Scaled')\n",
    "if n == '0':\n",
    "    scores = metrics(X_train_scaled, X_test_scaled, y_train, y_test)\n",
    "else:\n",
    "    scores = metrics(X_train_encoded, X_test_encoded, y_train, y_test)\n",
    "plotting(scores)"
   ]
  }
 ],
 "metadata": {
  "kernelspec": {
   "display_name": "Python 3 (ipykernel)",
   "language": "python",
   "name": "python3"
  },
  "language_info": {
   "codemirror_mode": {
    "name": "ipython",
    "version": 3
   },
   "file_extension": ".py",
   "mimetype": "text/x-python",
   "name": "python",
   "nbconvert_exporter": "python",
   "pygments_lexer": "ipython3",
   "version": "3.11.7"
  }
 },
 "nbformat": 4,
 "nbformat_minor": 5
}
